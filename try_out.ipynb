{
  "nbformat": 4,
  "nbformat_minor": 0,
  "metadata": {
    "colab": {
      "provenance": [],
      "authorship_tag": "ABX9TyMyhyXNBZubUlZxap6SNYgI",
      "include_colab_link": true
    },
    "kernelspec": {
      "name": "python3",
      "display_name": "Python 3"
    },
    "language_info": {
      "name": "python"
    }
  },
  "cells": [
    {
      "cell_type": "markdown",
      "metadata": {
        "id": "view-in-github",
        "colab_type": "text"
      },
      "source": [
        "<a href=\"https://colab.research.google.com/github/shadan73/Practice/blob/main/try_out.ipynb\" target=\"_parent\"><img src=\"https://colab.research.google.com/assets/colab-badge.svg\" alt=\"Open In Colab\"/></a>"
      ]
    },
    {
      "cell_type": "code",
      "execution_count": null,
      "metadata": {
        "colab": {
          "base_uri": "https://localhost:8080/"
        },
        "id": "3wzDwqtiYg7B",
        "outputId": "80462476-69e1-4ebe-9a7b-34b0b0b20ea7"
      },
      "outputs": [
        {
          "output_type": "stream",
          "name": "stdout",
          "text": [
            "ow are y\n"
          ]
        },
        {
          "output_type": "execute_result",
          "data": {
            "text/plain": [
              "str"
            ]
          },
          "metadata": {},
          "execution_count": 21
        }
      ],
      "source": [
        "''' Q1. Take a string 'hi how are you?' and extract 'ow are y' with combination of simple and reverse indexing ?'''\n",
        "\n",
        "shadan = 'Hi How are you'\n",
        "print(shadan[4:-2])\n",
        "type(shadan)"
      ]
    },
    {
      "cell_type": "code",
      "source": [
        "shadan[-10:-2]"
      ],
      "metadata": {
        "colab": {
          "base_uri": "https://localhost:8080/",
          "height": 35
        },
        "id": "WbLoaqtyaTqI",
        "outputId": "9d9bfbd6-0f79-4d89-8370-939dbd372e63"
      },
      "execution_count": null,
      "outputs": [
        {
          "output_type": "execute_result",
          "data": {
            "text/plain": [
              "'ow are y'"
            ],
            "application/vnd.google.colaboratory.intrinsic+json": {
              "type": "string"
            }
          },
          "metadata": {},
          "execution_count": 3
        }
      ]
    },
    {
      "cell_type": "code",
      "source": [
        "shadan[4:12]"
      ],
      "metadata": {
        "colab": {
          "base_uri": "https://localhost:8080/",
          "height": 35
        },
        "id": "xV7C1LtOa0Ng",
        "outputId": "301aa33f-e0ad-4da8-969a-92c0979fda1a"
      },
      "execution_count": null,
      "outputs": [
        {
          "output_type": "execute_result",
          "data": {
            "text/plain": [
              "'ow are y'"
            ],
            "application/vnd.google.colaboratory.intrinsic+json": {
              "type": "string"
            }
          },
          "metadata": {},
          "execution_count": 5
        }
      ]
    },
    {
      "cell_type": "code",
      "source": [
        "shadan[-10:12]"
      ],
      "metadata": {
        "colab": {
          "base_uri": "https://localhost:8080/",
          "height": 35
        },
        "id": "RvJnywlgbAEE",
        "outputId": "1584e2b7-b78f-4593-df5d-6e71786214c1"
      },
      "execution_count": null,
      "outputs": [
        {
          "output_type": "execute_result",
          "data": {
            "text/plain": [
              "'ow are y'"
            ],
            "application/vnd.google.colaboratory.intrinsic+json": {
              "type": "string"
            }
          },
          "metadata": {},
          "execution_count": 6
        }
      ]
    },
    {
      "cell_type": "code",
      "source": [
        "# Q2. Try item assignment with string ?\n",
        "\n",
        "hus=['23','sdf','35','sfsd','45']\n",
        "type(hus)"
      ],
      "metadata": {
        "id": "zb3gYWX4bINB"
      },
      "execution_count": null,
      "outputs": []
    },
    {
      "cell_type": "code",
      "source": [
        "print(hus)"
      ],
      "metadata": {
        "colab": {
          "base_uri": "https://localhost:8080/"
        },
        "id": "CkHq0nbbb6_b",
        "outputId": "8184b0ac-490f-4f79-ef13-dc348564163a"
      },
      "execution_count": null,
      "outputs": [
        {
          "output_type": "stream",
          "name": "stdout",
          "text": [
            "['23', 'sdf', '35', 'sfsd', '45']\n"
          ]
        }
      ]
    },
    {
      "cell_type": "code",
      "source": [
        "hus.append('12')"
      ],
      "metadata": {
        "id": "2RtrooQ3b-rX"
      },
      "execution_count": null,
      "outputs": []
    },
    {
      "cell_type": "code",
      "source": [
        "hus.insert('cdvdf','78')"
      ],
      "metadata": {
        "colab": {
          "base_uri": "https://localhost:8080/",
          "height": 165
        },
        "id": "ZPW1uYmwcXYI",
        "outputId": "62cdcff6-ef21-489f-b31d-423d662e39d0"
      },
      "execution_count": null,
      "outputs": [
        {
          "output_type": "error",
          "ename": "TypeError",
          "evalue": "ignored",
          "traceback": [
            "\u001b[0;31m---------------------------------------------------------------------------\u001b[0m",
            "\u001b[0;31mTypeError\u001b[0m                                 Traceback (most recent call last)",
            "\u001b[0;32m<ipython-input-14-e53cd97111de>\u001b[0m in \u001b[0;36m<module>\u001b[0;34m\u001b[0m\n\u001b[0;32m----> 1\u001b[0;31m \u001b[0mhus\u001b[0m\u001b[0;34m.\u001b[0m\u001b[0minsert\u001b[0m\u001b[0;34m(\u001b[0m\u001b[0;34m'cdvdf'\u001b[0m\u001b[0;34m,\u001b[0m\u001b[0;34m'78'\u001b[0m\u001b[0;34m)\u001b[0m\u001b[0;34m\u001b[0m\u001b[0;34m\u001b[0m\u001b[0m\n\u001b[0m",
            "\u001b[0;31mTypeError\u001b[0m: 'str' object cannot be interpreted as an integer"
          ]
        }
      ]
    },
    {
      "cell_type": "code",
      "source": [
        "hus"
      ],
      "metadata": {
        "colab": {
          "base_uri": "https://localhost:8080/"
        },
        "id": "2SdzSCz0cN60",
        "outputId": "9e812837-322e-41be-8a7f-617607444cf7"
      },
      "execution_count": null,
      "outputs": [
        {
          "output_type": "execute_result",
          "data": {
            "text/plain": [
              "['23', 'sdf', '35', 'sfsd', '45', '12']"
            ]
          },
          "metadata": {},
          "execution_count": 11
        }
      ]
    },
    {
      "cell_type": "code",
      "source": [
        "hus.pop(0)"
      ],
      "metadata": {
        "colab": {
          "base_uri": "https://localhost:8080/",
          "height": 35
        },
        "id": "nwoot90PcUDX",
        "outputId": "131ae4c8-ebdb-4867-df85-6128a7b5a842"
      },
      "execution_count": null,
      "outputs": [
        {
          "output_type": "execute_result",
          "data": {
            "text/plain": [
              "'23'"
            ],
            "application/vnd.google.colaboratory.intrinsic+json": {
              "type": "string"
            }
          },
          "metadata": {},
          "execution_count": 16
        }
      ]
    },
    {
      "cell_type": "code",
      "source": [
        "hus"
      ],
      "metadata": {
        "colab": {
          "base_uri": "https://localhost:8080/"
        },
        "id": "kRRGeNkVdQ9F",
        "outputId": "32a32f24-602e-4c81-a9e0-2d880c0f3ffd"
      },
      "execution_count": null,
      "outputs": [
        {
          "output_type": "execute_result",
          "data": {
            "text/plain": [
              "['sdf', '35', 'sfsd', '45', '12']"
            ]
          },
          "metadata": {},
          "execution_count": 18
        }
      ]
    },
    {
      "cell_type": "code",
      "source": [
        "# Q3. perform inserting, updating and deleting in set?\n",
        "\n",
        "k_s = {1,2,3,4,5,6,7,8,9,0,10}\n",
        "type(k_s)"
      ],
      "metadata": {
        "colab": {
          "base_uri": "https://localhost:8080/"
        },
        "id": "EXzc6-BedTaU",
        "outputId": "00dc41a8-a33c-496e-d4e7-f475c9ae38cd"
      },
      "execution_count": null,
      "outputs": [
        {
          "output_type": "execute_result",
          "data": {
            "text/plain": [
              "set"
            ]
          },
          "metadata": {},
          "execution_count": 19
        }
      ]
    },
    {
      "cell_type": "code",
      "source": [
        "k_s.add(\"se\")\n",
        "py = (30,40,50)\n",
        "k_s"
      ],
      "metadata": {
        "colab": {
          "base_uri": "https://localhost:8080/"
        },
        "id": "KHRhE5nrfIZc",
        "outputId": "8a777302-b55e-44ed-9d91-091c8ea5e49c"
      },
      "execution_count": null,
      "outputs": [
        {
          "output_type": "execute_result",
          "data": {
            "text/plain": [
              "{0, 1, 10, 2, 3, 4, 5, 6, 7, 8, 9, 'se'}"
            ]
          },
          "metadata": {},
          "execution_count": 28
        }
      ]
    },
    {
      "cell_type": "code",
      "source": [
        "k_s.update(py)\n",
        "k_s"
      ],
      "metadata": {
        "colab": {
          "base_uri": "https://localhost:8080/"
        },
        "id": "vwSsa4TaeJ2F",
        "outputId": "db710791-35fc-4792-ed26-59bb83dc222b"
      },
      "execution_count": null,
      "outputs": [
        {
          "output_type": "execute_result",
          "data": {
            "text/plain": [
              "{0, 1, 10, 2, 3, 30, 4, 40, 5, 50, 6, 7, 8, 9, 'se'}"
            ]
          },
          "metadata": {},
          "execution_count": 30
        }
      ]
    },
    {
      "cell_type": "code",
      "source": [
        "k_s.discard(1)\n",
        "k_s"
      ],
      "metadata": {
        "colab": {
          "base_uri": "https://localhost:8080/"
        },
        "id": "gi4VDTMkes51",
        "outputId": "c1638b3b-eec2-4f84-be33-95ad81333a8a"
      },
      "execution_count": null,
      "outputs": [
        {
          "output_type": "execute_result",
          "data": {
            "text/plain": [
              "{0, 10, 2, 3, 30, 4, 40, 5, 50, 6, 7, 8, 9, 'se'}"
            ]
          },
          "metadata": {},
          "execution_count": 33
        }
      ]
    },
    {
      "cell_type": "code",
      "source": [
        "Write a program to fetch 10 choco but if it is a diary milk you have to fetch 2 choco at a time \n",
        "\n",
        "5s you have to fetch 1 chocho t a time. "
      ],
      "metadata": {
        "id": "9zHtQgVthhTk"
      },
      "execution_count": null,
      "outputs": []
    },
    {
      "cell_type": "code",
      "source": [
        "0 == \"Dairymilk\""
      ],
      "metadata": {
        "id": "ORIWJCTkjocS"
      },
      "execution_count": null,
      "outputs": []
    },
    {
      "cell_type": "code",
      "source": [
        "DairyMilk = 0\n",
        "FiveStar = 0\n",
        "while True:\n",
        "    cho = input(\"Select your Chochlate \\n For Five Star type F \\n for Dairy Milk type D  - \").lower()\n",
        "    if DairyMilk+FiveStar == 9:\n",
        "        print(\"Now you can buy only Five Star\")\n",
        "        FiveStar +=1\n",
        "\n",
        "        break\n",
        "    elif DairyMilk+FiveStar == 10:\n",
        "        print(\"You Purchased total 10 Chochlates\")\n",
        "        break\n",
        "    else:\n",
        "        if cho ==\"f\":\n",
        "            FiveStar +=1\n",
        "        elif cho == \"d\":\n",
        "            DairyMilk +=2\n",
        "        else:\n",
        "            print(\"check your input\")\n",
        "    print(\"Till Now You Purchased \",DairyMilk,\" Dairy Milk and \",FiveStar,\" Five Star\")\n",
        "print(\"You Purchased \",DairyMilk,\" Dairy Milk and \",FiveStar,\" Five Star\")"
      ],
      "metadata": {
        "colab": {
          "base_uri": "https://localhost:8080/"
        },
        "id": "eIsP62lfWelq",
        "outputId": "91097b5f-a3ca-43fd-a164-29c6e7c15668"
      },
      "execution_count": null,
      "outputs": [
        {
          "output_type": "stream",
          "name": "stdout",
          "text": [
            "Select your Chochlate \n",
            " For Five Star type F \n",
            " for Dairy Milk type D  - d\n",
            "Till Now You Purchased  2  Dairy Milk and  0  Five Star\n",
            "Select your Chochlate \n",
            " For Five Star type F \n",
            " for Dairy Milk type D  - d\n",
            "Till Now You Purchased  4  Dairy Milk and  0  Five Star\n",
            "Select your Chochlate \n",
            " For Five Star type F \n",
            " for Dairy Milk type D  - f\n",
            "Till Now You Purchased  4  Dairy Milk and  1  Five Star\n",
            "Select your Chochlate \n",
            " For Five Star type F \n",
            " for Dairy Milk type D  - d\n",
            "Till Now You Purchased  6  Dairy Milk and  1  Five Star\n",
            "Select your Chochlate \n",
            " For Five Star type F \n",
            " for Dairy Milk type D  - d\n",
            "Till Now You Purchased  8  Dairy Milk and  1  Five Star\n",
            "Select your Chochlate \n",
            " For Five Star type F \n",
            " for Dairy Milk type D  - d\n",
            "Now you can buy only Five Star\n",
            "You Purchased  8  Dairy Milk and  2  Five Star\n"
          ]
        }
      ]
    },
    {
      "cell_type": "code",
      "source": [],
      "metadata": {
        "id": "2zOxtky4W2xY"
      },
      "execution_count": null,
      "outputs": []
    },
    {
      "cell_type": "code",
      "source": [],
      "metadata": {
        "id": "ZEnwT9fzW2gM"
      },
      "execution_count": null,
      "outputs": []
    },
    {
      "cell_type": "code",
      "source": [
        "Diarymilk = 0\n",
        "Fivestar =0\n",
        "choco = \n",
        "for i in range(1,11):\n",
        "  Which_C = input(\"DiaryMilk- D, fiveStar- F \\n\", ).upper()\n",
        "  choco = D+F\n",
        "  if choco\n",
        "  if choco >=10:\n",
        "    print(\"Total choco \\n\", Diarymilk, Fivestar , choco )\n",
        "    break\n",
        "  elif \"D\"==Which_C:\n",
        "    Diarymilk +=2\n",
        "    print(\"Diary Milk- \",Diarymilk , \"five Star-\", Fivestar)\n",
        "  else :\n",
        "    Fivestar += 1\n",
        "    print(\"Diary Milk- \", Diarymilk , \"five Star-\", Fivestar)\n",
        "  "
      ],
      "metadata": {
        "colab": {
          "base_uri": "https://localhost:8080/",
          "height": 135
        },
        "id": "htSMeuD2dpB5",
        "outputId": "1fcbdb86-02f9-4498-fded-ebc3af6c7ac1"
      },
      "execution_count": null,
      "outputs": [
        {
          "output_type": "error",
          "ename": "SyntaxError",
          "evalue": "ignored",
          "traceback": [
            "\u001b[0;36m  File \u001b[0;32m\"<ipython-input-2-a73b0a855d75>\"\u001b[0;36m, line \u001b[0;32m3\u001b[0m\n\u001b[0;31m    choco =\u001b[0m\n\u001b[0m            ^\u001b[0m\n\u001b[0;31mSyntaxError\u001b[0m\u001b[0;31m:\u001b[0m invalid syntax\n"
          ]
        }
      ]
    },
    {
      "cell_type": "code",
      "source": [
        "Which_Choco = input(\"Diary Milk, 5 Star\" )"
      ],
      "metadata": {
        "colab": {
          "base_uri": "https://localhost:8080/"
        },
        "id": "XS2uqTFfcswG",
        "outputId": "edfa92b5-a083-4d96-eeec-dd92247041f9"
      },
      "execution_count": null,
      "outputs": [
        {
          "name": "stdout",
          "output_type": "stream",
          "text": [
            "Diary Milk, 5 StarDiary Milk\n"
          ]
        }
      ]
    },
    {
      "cell_type": "code",
      "source": [
        "DairyMilk = 0\n",
        "FiveStar = 0\n",
        "while True:\n",
        "    cho = input(\"Select your Chochlate \\n For Five Star type F \\n for Dairy Milk type D \\n\").lower()\n",
        "    if DairyMilk+FiveStar == 9:\n",
        "        print(\"Now you can buy only Five Star\")\n",
        "        FiveStar +=1\n",
        "\n",
        "        break\n",
        "    elif DairyMilk+FiveStar == 10:\n",
        "        print(\"You Purchased total 10 Chochlates\")\n",
        "        break\n",
        "    else:\n",
        "        if cho ==\"f\":\n",
        "            FiveStar +=1\n",
        "        elif cho == \"d\":\n",
        "            DairyMilk +=2\n",
        "        else:\n",
        "            print(\"check your input\")\n",
        "    print(\"Till Now You Purchased \",DairyMilk,\" Dairy Milk and \",FiveStar,\" Five Star\")\n",
        "print(\"You Purchased \",DairyMilk,\" Dairy Milk and \",FiveStar,\" Five Star\")"
      ],
      "metadata": {
        "id": "S4DnoNwCdZrg",
        "colab": {
          "base_uri": "https://localhost:8080/"
        },
        "outputId": "c21db720-9f6b-44e0-f523-303e64fbdc22"
      },
      "execution_count": null,
      "outputs": [
        {
          "output_type": "stream",
          "name": "stdout",
          "text": [
            "Select your Chochlate \n",
            " For Five Star type F \n",
            " for Dairy Milk type D \n",
            "f\n",
            "You Selected  f\n",
            "Till Now You Purchased  0  Dairy Milk and  1  Five Star\n",
            "Select your Chochlate \n",
            " For Five Star type F \n",
            " for Dairy Milk type D \n",
            "d\n",
            "You Selected  d\n",
            "Till Now You Purchased  2  Dairy Milk and  1  Five Star\n",
            "Select your Chochlate \n",
            " For Five Star type F \n",
            " for Dairy Milk type D \n",
            "d\n",
            "You Selected  d\n",
            "Till Now You Purchased  4  Dairy Milk and  1  Five Star\n",
            "Select your Chochlate \n",
            " For Five Star type F \n",
            " for Dairy Milk type D \n",
            "d\n",
            "You Selected  d\n",
            "Till Now You Purchased  6  Dairy Milk and  1  Five Star\n",
            "Select your Chochlate \n",
            " For Five Star type F \n",
            " for Dairy Milk type D \n",
            "d\n",
            "You Selected  d\n",
            "Till Now You Purchased  8  Dairy Milk and  1  Five Star\n",
            "Select your Chochlate \n",
            " For Five Star type F \n",
            " for Dairy Milk type D \n",
            "d\n",
            "You Selected  d\n",
            "Now you can buy only Five Star\n",
            "You Purchased  8  Dairy Milk and  2  Five Star\n"
          ]
        }
      ]
    },
    {
      "cell_type": "code",
      "source": [
        "def demo (*a):\n",
        "  for i "
      ],
      "metadata": {
        "id": "KJ7fYDRWVDTs"
      },
      "execution_count": null,
      "outputs": []
    },
    {
      "cell_type": "code",
      "source": [
        "# def bill(*x):\n",
        "#     print(\"Welcome to XYZ shop\")\n",
        "#     s = 0\n",
        "#     for i,j in enumerate(x):\n",
        "#         print(\"Item \",i+1, \" Value is \",j)\n",
        "#         s += j\n",
        "#     print(\"Thank you for shoping with us\")\n",
        "#     return f\"Total Bill Amount is {s}\"\n",
        "    "
      ],
      "metadata": {
        "id": "h-bA9DG41fBE"
      },
      "execution_count": null,
      "outputs": []
    },
    {
      "cell_type": "code",
      "source": [
        "# def bill():\n",
        "#   print(\"Welcome to XyZ shop\")\n",
        "#   item=int(input('please Enter totel number of item - '))\n",
        "#   item_price = []\n",
        "#   for i in range(item):\n",
        "#     z = int(input(f\"Please insert your {i+1} item price - \"))\n",
        "#     item_price.append(z)\n",
        "#   print(f\"\\n{10*'x'} Here is your Bill {10*'x'}\\n\")\n",
        "#   s = 0\n",
        "#   for i,j in enumerate(item_price):\n",
        "#         print(\"Item \",i+1, \" Value is \",j)\n",
        "#         s += j\n",
        "#   print(\"\\nThank you for shoping with us\\n\")\n",
        "#   return f\"Total Bill Amount is {s}\"\n",
        "  \n",
        "  \n",
        "\n"
      ],
      "metadata": {
        "id": "tA9ffTCh1nzo"
      },
      "execution_count": null,
      "outputs": []
    },
    {
      "cell_type": "code",
      "source": [
        "bill()"
      ],
      "metadata": {
        "colab": {
          "base_uri": "https://localhost:8080/",
          "height": 244
        },
        "id": "mSU2dWpN14vG",
        "outputId": "59e32405-7b8b-445f-b675-3495f431a083"
      },
      "execution_count": null,
      "outputs": [
        {
          "output_type": "stream",
          "name": "stdout",
          "text": [
            "Welcome to XyZ shop\n",
            "please Enter totel number of item - 2\n",
            "Please insert your 1 item price - 45\n",
            "Please insert your 2 item price - 55\n",
            "\n",
            "xxxxxxxx Here is your Bill xxxxxxxx\n",
            "\n",
            "Item  1  Value is  45\n",
            "Item  2  Value is  55\n",
            "\n",
            "Thank you for shoping with us\n",
            "\n"
          ]
        },
        {
          "output_type": "execute_result",
          "data": {
            "text/plain": [
              "'Total Bill Amount is 100'"
            ],
            "application/vnd.google.colaboratory.intrinsic+json": {
              "type": "string"
            }
          },
          "metadata": {},
          "execution_count": 36
        }
      ]
    },
    {
      "cell_type": "code",
      "source": [
        "def Generate_Bill():\n",
        "  print(\"Wellcome to XYZ Shop\\n\")\n",
        "  num=int(input(\"Please enter the number of item - \"))\n",
        "  item_price=[]\n",
        "  for i in range(num):\n",
        "    a=int(input(f\"Item no- {i+1} Amount - \"))\n",
        "    item_price.append(a)\n",
        "  print(\"\\n***Bill is ready please check***\\n\")\n",
        "  bill = 0\n",
        "  for i,j in enumerate(item_price):\n",
        "    print(\"Item \",i+1, \" Value is \",j)\n",
        "    bill +=j\n",
        "  print(f\"\\n Total Bill is Rs{bill}/-\\n \\n***Thank you for shopping we us***\")\n"
      ],
      "metadata": {
        "id": "jDUXieXe4nvr"
      },
      "execution_count": null,
      "outputs": []
    },
    {
      "cell_type": "code",
      "source": [
        "Generate_Bill()\n"
      ],
      "metadata": {
        "colab": {
          "base_uri": "https://localhost:8080/"
        },
        "id": "WpxpErIVAOBr",
        "outputId": "b7f68c8d-430c-476c-febf-3d5a987c6ac1"
      },
      "execution_count": null,
      "outputs": [
        {
          "output_type": "stream",
          "name": "stdout",
          "text": [
            "Wellcome to XYZ Shop\n",
            "\n",
            "Please enter the number of item - 2\n",
            "Item no- 1 Amount - 23\n",
            "Item no- 2 Amount - 45\n",
            "\n",
            "***Bill is ready please check***\n",
            "\n",
            "Item  1  Value is  23\n",
            "Item  2  Value is  45\n",
            "\n",
            " Total Bill is Rs68/-\n",
            " \n",
            "***Thank you for shopping we us***\n"
          ]
        }
      ]
    },
    {
      "cell_type": "markdown",
      "source": [],
      "metadata": {
        "id": "A1KfricTmg-9"
      }
    },
    {
      "cell_type": "code",
      "source": [
        "a =list(map(int,list(input(\"Please Enter the Number - \").split(\",\"))))"
      ],
      "metadata": {
        "id": "obkpwyG7ASMw",
        "colab": {
          "base_uri": "https://localhost:8080/"
        },
        "outputId": "698c484e-013f-4e80-9b24-44858a08081f"
      },
      "execution_count": null,
      "outputs": [
        {
          "name": "stdout",
          "output_type": "stream",
          "text": [
            "Please Enter the Number - 2, 3, 4,5\n"
          ]
        }
      ]
    },
    {
      "cell_type": "code",
      "source": [
        "#  write a program to find the even numbers. but take input in space seperated format"
      ],
      "metadata": {
        "id": "-Mvvua1Cmxbw"
      },
      "execution_count": null,
      "outputs": []
    },
    {
      "cell_type": "code",
      "source": [
        "\"23 5\""
      ],
      "metadata": {
        "id": "SpoSA2yC4I_H"
      },
      "execution_count": null,
      "outputs": []
    },
    {
      "cell_type": "code",
      "source": [
        "{1,5,3,3}"
      ],
      "metadata": {
        "colab": {
          "base_uri": "https://localhost:8080/"
        },
        "id": "6gCrvKV08y82",
        "outputId": "76a205cf-827d-4c40-cd70-72823f4f9d3b"
      },
      "execution_count": 28,
      "outputs": [
        {
          "output_type": "execute_result",
          "data": {
            "text/plain": [
              "{1, 3, 5}"
            ]
          },
          "metadata": {},
          "execution_count": 28
        }
      ]
    },
    {
      "cell_type": "code",
      "source": [
        "a = 2,\"w\"\n",
        "z =[2,\"w\"]\n",
        "z[1] = \"x\"\n",
        "z\n",
        "y = {2:(23, 34 , 45 ,6,5), 3 :(34,45,56)}\n",
        "y[2]"
      ],
      "metadata": {
        "colab": {
          "base_uri": "https://localhost:8080/"
        },
        "id": "NChJ1cy33o6x",
        "outputId": "1a1ef9d7-e7c6-40c4-f108-d76ea68502ae"
      },
      "execution_count": 26,
      "outputs": [
        {
          "output_type": "execute_result",
          "data": {
            "text/plain": [
              "(23, 34, 45, 6, 5)"
            ]
          },
          "metadata": {},
          "execution_count": 26
        }
      ]
    },
    {
      "cell_type": "code",
      "source": [
        "i_n=list(map(int,list(input(\"Please Enter the number in this format (2 3 34 ...) \\n\").split())))\n",
        "e = []\n",
        "o = []\n",
        "for i in (i_n):\n",
        "  i = int(i)\n",
        "  if i%2==0:\n",
        "    e.append(i)\n",
        "   \n",
        "  else:\n",
        "    o.append(i)\n",
        "    \n",
        "print(f\"even number - {e} \\n odd number - {o}\")"
      ],
      "metadata": {
        "colab": {
          "base_uri": "https://localhost:8080/"
        },
        "id": "EfdcNZKSmUgo",
        "outputId": "66b4d443-0cfa-46e2-a5a0-1ca568221bc0"
      },
      "execution_count": 12,
      "outputs": [
        {
          "output_type": "stream",
          "name": "stdout",
          "text": [
            "Please Enter the number in this format (2 3 34 ...) \n",
            "23 45 2\n",
            "even number - [2] \n",
            " odd number - [23, 45]\n"
          ]
        }
      ]
    },
    {
      "cell_type": "code",
      "source": [
        "# write a program to find the prime numbers"
      ],
      "metadata": {
        "id": "tV87QbTmz2hh"
      },
      "execution_count": null,
      "outputs": []
    },
    {
      "cell_type": "code",
      "source": [
        "a = 7\n",
        "for i in range(2,a-1):\n",
        "  if a%i ==0:\n",
        "    \n",
        "    print(\"not\")\n",
        "    break\n",
        "else:\n",
        "  print(\"yes\")"
      ],
      "metadata": {
        "colab": {
          "base_uri": "https://localhost:8080/"
        },
        "id": "DJncszvP0l_-",
        "outputId": "89b621cd-724f-4718-f0ea-f5d69870e18e"
      },
      "execution_count": 11,
      "outputs": [
        {
          "output_type": "stream",
          "name": "stdout",
          "text": [
            "yes\n"
          ]
        }
      ]
    },
    {
      "cell_type": "code",
      "source": [
        "i_n=int(input(\"Please Enter the number in this format (5) \\n\"))\n",
        "p = []\n",
        "n_p = []\n",
        "if i_n <=1:\n",
        "  n_p.append(i_n)\n",
        "else:\n",
        "  for i in range(2,i_n+1):\n",
        "    if i%i==0:\n",
        "      p.append(i)\n",
        "    \n",
        "    else:\n",
        "      n_p.append(i)\n",
        "    \n",
        "print(f\"It is a prime number - {p} \\n Its not a prime number - {n_p}\")"
      ],
      "metadata": {
        "id": "QQ_bKg25sHF2",
        "colab": {
          "base_uri": "https://localhost:8080/"
        },
        "outputId": "ecf37587-4513-40d1-81a8-abb5814e530b"
      },
      "execution_count": 2,
      "outputs": [
        {
          "output_type": "stream",
          "name": "stdout",
          "text": [
            "Please Enter the number in this format (5) \n",
            "5\n",
            "It is a prime number - [2, 3, 4, 5] \n",
            " Its not a prime number - []\n"
          ]
        }
      ]
    },
    {
      "cell_type": "code",
      "source": [
        "# write a program l=[8,9,7,3,12]\n",
        "# 1. display all the indexes \n",
        "# 2. print the total\n",
        "\n",
        "l=[8,9,7,3,12]\n",
        "t=0\n",
        "for i,j in enumerate(l):\n",
        "  print(\"num- \",i, \" \",j)\n",
        "  t+=i\n",
        "print(i,j, \"\\ntotal\",t)"
      ],
      "metadata": {
        "colab": {
          "base_uri": "https://localhost:8080/"
        },
        "id": "uXiOPAPYBdKx",
        "outputId": "6237a393-eede-4656-9391-75c878c45a94"
      },
      "execution_count": 35,
      "outputs": [
        {
          "output_type": "stream",
          "name": "stdout",
          "text": [
            "num-  0   8\n",
            "num-  1   9\n",
            "num-  2   7\n",
            "num-  3   3\n",
            "num-  4   12\n",
            "4 12 \n",
            "total 10\n"
          ]
        }
      ]
    },
    {
      "cell_type": "code",
      "source": [
        "a = list(map(int, input(\"Enter the numbers = \").split()))\n",
        "for i in a:\n",
        "    if i==0 or i==1:\n",
        "        print(i,\"not prime\")\n",
        "        \n",
        "    prime=False\n",
        "    for j in range(2,i):\n",
        "        if i%j!=0:\n",
        "            prime= True\n",
        "            break\n",
        "        \n",
        "    if prime == False:\n",
        "        print(\"prime\")\n",
        "    else:\n",
        "        print(\"not prime\")"
      ],
      "metadata": {
        "colab": {
          "base_uri": "https://localhost:8080/"
        },
        "id": "eQnOQIaA2q0v",
        "outputId": "db52a4f7-d870-4e3c-c94e-547211e2f52d"
      },
      "execution_count": 20,
      "outputs": [
        {
          "output_type": "stream",
          "name": "stdout",
          "text": [
            "Enter the numbers = 2 7 9\n",
            "prime\n",
            "not prime\n",
            "not prime\n"
          ]
        }
      ]
    },
    {
      "cell_type": "code",
      "source": [
        "u_m"
      ],
      "metadata": {
        "colab": {
          "base_uri": "https://localhost:8080/"
        },
        "id": "yVRbSBPsXkqS",
        "outputId": "eab98705-3947-4276-917d-e3c15faa65b9"
      },
      "execution_count": 55,
      "outputs": [
        {
          "output_type": "execute_result",
          "data": {
            "text/plain": [
              "<function str.lower()>"
            ]
          },
          "metadata": {},
          "execution_count": 55
        }
      ]
    },
    {
      "cell_type": "code",
      "source": [
        "u_m= input(\" which patten you want to play \\nalpha press (a) and for number (1) \\n -  \").lower()\n",
        "c_c= 0\n",
        "c_p=0\n",
        "u_p=0\n",
        "u_i= 0\n",
        "if u_m ==\"a\":\n",
        "  for i in range(5):\n",
        "    user=input(\"Chose stone= s, paper = p, cez = c \").lower\n",
        "    print(i)"
      ],
      "metadata": {
        "colab": {
          "base_uri": "https://localhost:8080/",
          "height": 415
        },
        "id": "HPimdfB8Xeh6",
        "outputId": "cfbb19b2-c244-4a08-f9c7-0ad60065f055"
      },
      "execution_count": 56,
      "outputs": [
        {
          "name": "stdout",
          "output_type": "stream",
          "text": [
            " which patten you want to play \n",
            "alpha press (a) and for number (1) \n",
            " -  a\n"
          ]
        },
        {
          "output_type": "error",
          "ename": "KeyboardInterrupt",
          "evalue": "ignored",
          "traceback": [
            "\u001b[0;31m---------------------------------------------------------------------------\u001b[0m",
            "\u001b[0;31mKeyboardInterrupt\u001b[0m                         Traceback (most recent call last)",
            "\u001b[0;32m<ipython-input-56-8c7d5e7f5f9f>\u001b[0m in \u001b[0;36m<module>\u001b[0;34m\u001b[0m\n\u001b[1;32m      6\u001b[0m \u001b[0;32mif\u001b[0m \u001b[0mu_m\u001b[0m \u001b[0;34m==\u001b[0m\u001b[0;34m\"a\"\u001b[0m\u001b[0;34m:\u001b[0m\u001b[0;34m\u001b[0m\u001b[0;34m\u001b[0m\u001b[0m\n\u001b[1;32m      7\u001b[0m   \u001b[0;32mfor\u001b[0m \u001b[0mi\u001b[0m \u001b[0;32min\u001b[0m \u001b[0mrange\u001b[0m\u001b[0;34m(\u001b[0m\u001b[0;36m5\u001b[0m\u001b[0;34m)\u001b[0m\u001b[0;34m:\u001b[0m\u001b[0;34m\u001b[0m\u001b[0;34m\u001b[0m\u001b[0m\n\u001b[0;32m----> 8\u001b[0;31m     \u001b[0muser\u001b[0m\u001b[0;34m=\u001b[0m\u001b[0minput\u001b[0m\u001b[0;34m(\u001b[0m\u001b[0;34m\"Chose stone= s, paper = p, cez = c \"\u001b[0m\u001b[0;34m)\u001b[0m\u001b[0;34m.\u001b[0m\u001b[0mlower\u001b[0m\u001b[0;34m\u001b[0m\u001b[0;34m\u001b[0m\u001b[0m\n\u001b[0m\u001b[1;32m      9\u001b[0m     \u001b[0mprint\u001b[0m\u001b[0;34m(\u001b[0m\u001b[0mi\u001b[0m\u001b[0;34m)\u001b[0m\u001b[0;34m\u001b[0m\u001b[0;34m\u001b[0m\u001b[0m\n",
            "\u001b[0;32m/usr/local/lib/python3.8/dist-packages/ipykernel/kernelbase.py\u001b[0m in \u001b[0;36mraw_input\u001b[0;34m(self, prompt)\u001b[0m\n\u001b[1;32m    858\u001b[0m                 \u001b[0;34m\"raw_input was called, but this frontend does not support input requests.\"\u001b[0m\u001b[0;34m\u001b[0m\u001b[0;34m\u001b[0m\u001b[0m\n\u001b[1;32m    859\u001b[0m             )\n\u001b[0;32m--> 860\u001b[0;31m         return self._input_request(str(prompt),\n\u001b[0m\u001b[1;32m    861\u001b[0m             \u001b[0mself\u001b[0m\u001b[0;34m.\u001b[0m\u001b[0m_parent_ident\u001b[0m\u001b[0;34m,\u001b[0m\u001b[0;34m\u001b[0m\u001b[0;34m\u001b[0m\u001b[0m\n\u001b[1;32m    862\u001b[0m             \u001b[0mself\u001b[0m\u001b[0;34m.\u001b[0m\u001b[0m_parent_header\u001b[0m\u001b[0;34m,\u001b[0m\u001b[0;34m\u001b[0m\u001b[0;34m\u001b[0m\u001b[0m\n",
            "\u001b[0;32m/usr/local/lib/python3.8/dist-packages/ipykernel/kernelbase.py\u001b[0m in \u001b[0;36m_input_request\u001b[0;34m(self, prompt, ident, parent, password)\u001b[0m\n\u001b[1;32m    902\u001b[0m             \u001b[0;32mexcept\u001b[0m \u001b[0mKeyboardInterrupt\u001b[0m\u001b[0;34m:\u001b[0m\u001b[0;34m\u001b[0m\u001b[0;34m\u001b[0m\u001b[0m\n\u001b[1;32m    903\u001b[0m                 \u001b[0;31m# re-raise KeyboardInterrupt, to truncate traceback\u001b[0m\u001b[0;34m\u001b[0m\u001b[0;34m\u001b[0m\u001b[0;34m\u001b[0m\u001b[0m\n\u001b[0;32m--> 904\u001b[0;31m                 \u001b[0;32mraise\u001b[0m \u001b[0mKeyboardInterrupt\u001b[0m\u001b[0;34m(\u001b[0m\u001b[0;34m\"Interrupted by user\"\u001b[0m\u001b[0;34m)\u001b[0m \u001b[0;32mfrom\u001b[0m \u001b[0;32mNone\u001b[0m\u001b[0;34m\u001b[0m\u001b[0;34m\u001b[0m\u001b[0m\n\u001b[0m\u001b[1;32m    905\u001b[0m             \u001b[0;32mexcept\u001b[0m \u001b[0mException\u001b[0m \u001b[0;32mas\u001b[0m \u001b[0me\u001b[0m\u001b[0;34m:\u001b[0m\u001b[0;34m\u001b[0m\u001b[0;34m\u001b[0m\u001b[0m\n\u001b[1;32m    906\u001b[0m                 \u001b[0mself\u001b[0m\u001b[0;34m.\u001b[0m\u001b[0mlog\u001b[0m\u001b[0;34m.\u001b[0m\u001b[0mwarning\u001b[0m\u001b[0;34m(\u001b[0m\u001b[0;34m\"Invalid Message:\"\u001b[0m\u001b[0;34m,\u001b[0m \u001b[0mexc_info\u001b[0m\u001b[0;34m=\u001b[0m\u001b[0;32mTrue\u001b[0m\u001b[0;34m)\u001b[0m\u001b[0;34m\u001b[0m\u001b[0;34m\u001b[0m\u001b[0m\n",
            "\u001b[0;31mKeyboardInterrupt\u001b[0m: Interrupted by user"
          ]
        }
      ]
    },
    {
      "cell_type": "code",
      "source": [
        "from ast import Break\n",
        "import random\n",
        "u_m= input(\" which patten you want to play \\nalpha press (a) and for number (1) \\n -  \").lower()\n",
        "c_c= 0\n",
        "c_p=0\n",
        "u_p=0\n",
        "u_i= 0\n",
        "if u_m ==\"a\":\n",
        "  for i in range(5):\n",
        "    user=input(\"Chose stone= s, paper = p, cez = c \").lower()\n",
        "\n",
        "    if user==\"s\":\n",
        "      c_c=random.randint(1,3)\n",
        "\n",
        "      if c_c==3: \n",
        "        u_p= u_p+1\n",
        "        print(f\"User Win this round\\n comp - {c_p} user - {u_p}  \")\n",
        "  \n",
        "      elif c_c==2:\n",
        "        c_p= c_p+1\n",
        "        print(f\"computer Win this round\\n comp - {c_p} user - {u_p}  \")\n",
        "\n",
        "      else:\n",
        "        u_p= u_p+1\n",
        "        c_p = c_p+1\n",
        "        print(f\"This Round is DROW\\n comp - {c_p} user - {u_p} \")\n",
        "\n",
        "    elif user==\"p\":\n",
        "      c_c=random.randint(1,3)\n",
        "      if c_c==1: \n",
        "        u_p= u_p+1\n",
        "        print(f\"User Win this round\\n comp - {c_p} user - {u_p}  \")\n",
        "  \n",
        "      elif c_c==3:\n",
        "        c_p= c_p+1\n",
        "        print(f\"computer Win this round\\n comp - {c_p} user - {u_p}  \")\n",
        "\n",
        "      else:\n",
        "        u_p= u_p+1\n",
        "        c_p = c_p+1\n",
        "        print(f\"This Round is DROW\\n comp - {c_p} user - {u_p} \")\n",
        "      \n",
        "    elif user==\"c\":\n",
        "      c_c=random.randint(1,3)\n",
        "      if c_c==2: \n",
        "        u_p= u_p+1\n",
        "        print(f\"User Win this round\\n comp - {c_p} user - {u_p}  \")\n",
        "  \n",
        "      elif c_c==1:\n",
        "        c_p= c_p+1\n",
        "        print(f\"computer Win this round\\n comp - {c_p} user - {u_p}  \")\n",
        "\n",
        "      else:\n",
        "        u_p= u_p+1\n",
        "        c_p = c_p+1\n",
        "        print(f\"This Round is DROW\\n comp - {c_p} user - {u_p} \")\n",
        "\n",
        "elif u_m==\"1\":\n",
        "  for i in range(5):\n",
        "    user=input(\"Chose stone= 1, paper = 2, cez = 3 \")\n",
        "\n",
        "    if user==\"1\":\n",
        "      c_c=random.randint(1,3)\n",
        "\n",
        "      if c_c==3: \n",
        "        u_p= u_p+1\n",
        "        print(f\"User Win this round\\n comp - {c_p} user - {u_p}  \")\n",
        "  \n",
        "      elif c_c==2:\n",
        "        c_p= c_p+1\n",
        "        print(f\"computer Win this round\\n comp - {c_p} user - {u_p}  \")\n",
        "\n",
        "      else:\n",
        "        u_p= u_p+1\n",
        "        c_p = c_p+1\n",
        "        print(f\"This Round is DROW\\n comp - {c_p} user - {u_p} \")\n",
        "\n",
        "    elif user==\"2\":\n",
        "      c_c=random.randint(1,3)\n",
        "\n",
        "      if c_c==1: \n",
        "        u_p= u_p+1\n",
        "        print(f\"User Win this round\\n comp - {c_p} user - {u_p}  \")\n",
        "  \n",
        "      elif c_c==3:\n",
        "        c_p= c_p+1\n",
        "        print(f\"computer Win this round\\n comp - {c_p} user - {u_p}  \")\n",
        "\n",
        "      else:\n",
        "        u_p= u_p+1\n",
        "        c_p = c_p+1\n",
        "        print(f\"This Round is DROW\\n comp - {c_p} user - {u_p} \")\n",
        "      \n",
        "    elif user==\"3\":\n",
        "      c_c=random.randint(1,3)\n",
        "\n",
        "      if c_c==2: \n",
        "        u_p= u_p+1\n",
        "        print(f\"User Win this round\\n comp - {c_p} user - {u_p}\")\n",
        "  \n",
        "      elif c_c==1:\n",
        "        c_p= c_p+1\n",
        "        print(f\"computer Win this round\\n comp - {c_p} user - {u_p}\")\n",
        "\n",
        "      else:\n",
        "        u_p= u_p+1\n",
        "        c_p = c_p+1\n",
        "        print(f\"This Round is DROW\\n comp - {c_p} user - {u_p}\")\n",
        "\n",
        "\n",
        "else:\n",
        "  print(f\"Please restart the game and Please chose the Wright option \")  \n",
        "    \n",
        "      \n",
        "\n",
        "  "
      ],
      "metadata": {
        "colab": {
          "base_uri": "https://localhost:8080/"
        },
        "id": "4bkyLHFV9RPg",
        "outputId": "1a92d1e8-fa9a-4b6e-c66b-9600b2081e99"
      },
      "execution_count": 61,
      "outputs": [
        {
          "name": "stdout",
          "output_type": "stream",
          "text": [
            " which patten you want to play \n",
            "alpha press (a) and for number (1) \n",
            " -  a\n",
            "Chose stone= s, paper = p, cez = c d\n",
            "Chose stone= s, paper = p, cez = c d\n",
            "Chose stone= s, paper = p, cez = c d\n",
            "Chose stone= s, paper = p, cez = c d\n",
            "Chose stone= s, paper = p, cez = c d\n"
          ]
        }
      ]
    },
    {
      "cell_type": "code",
      "source": [
        "c_c=0\n",
        "c_c=random.randint(1,3)\n",
        "c_c"
      ],
      "metadata": {
        "colab": {
          "base_uri": "https://localhost:8080/"
        },
        "id": "eX8RShooBPxy",
        "outputId": "5f7e1a9c-8910-4b0b-bace-2a2036b9c7f3"
      },
      "execution_count": 49,
      "outputs": [
        {
          "output_type": "execute_result",
          "data": {
            "text/plain": [
              "0"
            ]
          },
          "metadata": {},
          "execution_count": 49
        }
      ]
    },
    {
      "cell_type": "code",
      "source": [
        "print(\"user win\")\n",
        "    elif user==\"p\":\n",
        "      u_i.append(2)\n",
        "      c_c=random.randint(1,3)\n",
        "\n",
        "    c_c.append(random.randint(0,3))\n",
        "    print(user, c_c)"
      ],
      "metadata": {
        "id": "rjABFFIdFuRM"
      },
      "execution_count": null,
      "outputs": []
    },
    {
      "cell_type": "code",
      "source": [
        "import string\n",
        "alphabet = list(string.ascii_lowercase)"
      ],
      "metadata": {
        "id": "699KmG5wqYUx"
      },
      "execution_count": 2,
      "outputs": []
    },
    {
      "cell_type": "code",
      "source": [
        "num = [0,1,2,3,4,5,6,7,8,9]"
      ],
      "metadata": {
        "id": "FHnziD7R2kDs"
      },
      "execution_count": 3,
      "outputs": []
    },
    {
      "cell_type": "code",
      "source": [
        "ip = input()\n",
        "a = []\n",
        "n = []\n",
        "s = []\n",
        "for i in ip:\n",
        "  if i in alphabet:\n",
        "    a.append(i)\n",
        "  elif i in map(str,num):\n",
        "      n.append(int(i))\n",
        "  elif i==\" \":\n",
        "    pass\n",
        "  else:\n",
        "    s.append(i)\n",
        "print(a,n,s)\n"
      ],
      "metadata": {
        "colab": {
          "base_uri": "https://localhost:8080/"
        },
        "id": "YKeDRnkUhmAu",
        "outputId": "972a2a0b-118a-44a2-8a32-17d2f9da3779"
      },
      "execution_count": 16,
      "outputs": [
        {
          "output_type": "stream",
          "name": "stdout",
          "text": [
            "afgasd23v 435487986\n",
            "['a', 'f', 'g', 'a', 's', 'd', 'v'] [2, 3, 4, 3, 5, 4, 8, 7, 9, 8, 6] []\n"
          ]
        }
      ]
    },
    {
      "cell_type": "code",
      "source": [
        "a = map(str,num)"
      ],
      "metadata": {
        "id": "_hd6C1dnkOyc"
      },
      "execution_count": 15,
      "outputs": []
    },
    {
      "cell_type": "code",
      "source": [
        "list(a)"
      ],
      "metadata": {
        "colab": {
          "base_uri": "https://localhost:8080/"
        },
        "id": "IZ6cxm7a6KUA",
        "outputId": "30d11b47-d607-48f6-df9b-3b699cd9e7a4"
      },
      "execution_count": 13,
      "outputs": [
        {
          "output_type": "execute_result",
          "data": {
            "text/plain": [
              "['0', '1', '2', '3', '4', '5', '6', '7', '8', '9']"
            ]
          },
          "metadata": {},
          "execution_count": 13
        }
      ]
    },
    {
      "cell_type": "code",
      "source": [],
      "metadata": {
        "id": "m2oqcl5n6NoF"
      },
      "execution_count": null,
      "outputs": []
    }
  ]
}